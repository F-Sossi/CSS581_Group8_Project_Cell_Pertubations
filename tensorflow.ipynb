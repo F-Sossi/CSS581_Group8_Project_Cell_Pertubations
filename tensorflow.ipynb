{
 "cells": [
  {
   "cell_type": "code",
   "execution_count": 1,
   "metadata": {},
   "outputs": [
    {
     "name": "stderr",
     "output_type": "stream",
     "text": [
      "2023-11-02 22:16:58.779541: I tensorflow/core/platform/cpu_feature_guard.cc:182] This TensorFlow binary is optimized to use available CPU instructions in performance-critical operations.\n",
      "To enable the following instructions: SSE3 SSE4.1 SSE4.2 AVX AVX2 AVX512F AVX512_VNNI FMA, in other operations, rebuild TensorFlow with the appropriate compiler flags.\n",
      "/usr/lib/python3.11/site-packages/h5py/__init__.py:36: UserWarning: h5py is running against HDF5 1.14.2 when it was built against 1.14.1, this may cause problems\n",
      "  _warn((\"h5py is running against HDF5 {0} when it was built against {1}, \"\n"
     ]
    },
    {
     "ename": "KeyboardInterrupt",
     "evalue": "",
     "output_type": "error",
     "traceback": [
      "\u001b[0;31m---------------------------------------------------------------------------\u001b[0m",
      "\u001b[0;31mKeyboardInterrupt\u001b[0m                         Traceback (most recent call last)",
      "\u001b[1;32m/home/franks/Documents/CSS581_Group8_Project_Cell_Pertubations/tensorflow.ipynb Cell 1\u001b[0m line \u001b[0;36m2\n\u001b[1;32m     <a href='vscode-notebook-cell:/home/franks/Documents/CSS581_Group8_Project_Cell_Pertubations/tensorflow.ipynb#W0sZmlsZQ%3D%3D?line=17'>18</a>\u001b[0m scaler \u001b[39m=\u001b[39m MinMaxScaler()\n\u001b[1;32m     <a href='vscode-notebook-cell:/home/franks/Documents/CSS581_Group8_Project_Cell_Pertubations/tensorflow.ipynb#W0sZmlsZQ%3D%3D?line=18'>19</a>\u001b[0m gene_expression_columns \u001b[39m=\u001b[39m de_train_encoded\u001b[39m.\u001b[39mcolumns[\u001b[39m5\u001b[39m:]\u001b[39m.\u001b[39mtolist()\n\u001b[0;32m---> <a href='vscode-notebook-cell:/home/franks/Documents/CSS581_Group8_Project_Cell_Pertubations/tensorflow.ipynb#W0sZmlsZQ%3D%3D?line=19'>20</a>\u001b[0m de_train_encoded[gene_expression_columns] \u001b[39m=\u001b[39m scaler\u001b[39m.\u001b[39mfit_transform(de_train_encoded[gene_expression_columns])\n\u001b[1;32m     <a href='vscode-notebook-cell:/home/franks/Documents/CSS581_Group8_Project_Cell_Pertubations/tensorflow.ipynb#W0sZmlsZQ%3D%3D?line=21'>22</a>\u001b[0m \u001b[39m# For demonstration, let's predict the differential expression for one gene\u001b[39;00m\n\u001b[1;32m     <a href='vscode-notebook-cell:/home/franks/Documents/CSS581_Group8_Project_Cell_Pertubations/tensorflow.ipynb#W0sZmlsZQ%3D%3D?line=22'>23</a>\u001b[0m target_gene \u001b[39m=\u001b[39m gene_expression_columns[\u001b[39m0\u001b[39m]\n",
      "File \u001b[0;32m/usr/lib/python3.11/site-packages/pandas/core/frame.py:3968\u001b[0m, in \u001b[0;36mDataFrame.__setitem__\u001b[0;34m(self, key, value)\u001b[0m\n\u001b[1;32m   3966\u001b[0m     \u001b[39mself\u001b[39m\u001b[39m.\u001b[39m_setitem_frame(key, value)\n\u001b[1;32m   3967\u001b[0m \u001b[39melif\u001b[39;00m \u001b[39misinstance\u001b[39m(key, (Series, np\u001b[39m.\u001b[39mndarray, \u001b[39mlist\u001b[39m, Index)):\n\u001b[0;32m-> 3968\u001b[0m     \u001b[39mself\u001b[39;49m\u001b[39m.\u001b[39;49m_setitem_array(key, value)\n\u001b[1;32m   3969\u001b[0m \u001b[39melif\u001b[39;00m \u001b[39misinstance\u001b[39m(value, DataFrame):\n\u001b[1;32m   3970\u001b[0m     \u001b[39mself\u001b[39m\u001b[39m.\u001b[39m_set_item_frame_value(key, value)\n",
      "File \u001b[0;32m/usr/lib/python3.11/site-packages/pandas/core/frame.py:4019\u001b[0m, in \u001b[0;36mDataFrame._setitem_array\u001b[0;34m(self, key, value)\u001b[0m\n\u001b[1;32m   4016\u001b[0m         \u001b[39mself\u001b[39m[col] \u001b[39m=\u001b[39m value\n\u001b[1;32m   4018\u001b[0m \u001b[39melif\u001b[39;00m \u001b[39misinstance\u001b[39m(value, np\u001b[39m.\u001b[39mndarray) \u001b[39mand\u001b[39;00m value\u001b[39m.\u001b[39mndim \u001b[39m==\u001b[39m \u001b[39m2\u001b[39m:\n\u001b[0;32m-> 4019\u001b[0m     \u001b[39mself\u001b[39;49m\u001b[39m.\u001b[39;49m_iset_not_inplace(key, value)\n\u001b[1;32m   4021\u001b[0m \u001b[39melif\u001b[39;00m np\u001b[39m.\u001b[39mndim(value) \u001b[39m>\u001b[39m \u001b[39m1\u001b[39m:\n\u001b[1;32m   4022\u001b[0m     \u001b[39m# list of lists\u001b[39;00m\n\u001b[1;32m   4023\u001b[0m     value \u001b[39m=\u001b[39m DataFrame(value)\u001b[39m.\u001b[39mvalues\n",
      "File \u001b[0;32m/usr/lib/python3.11/site-packages/pandas/core/frame.py:4049\u001b[0m, in \u001b[0;36mDataFrame._iset_not_inplace\u001b[0;34m(self, key, value)\u001b[0m\n\u001b[1;32m   4046\u001b[0m         \u001b[39mraise\u001b[39;00m \u001b[39mValueError\u001b[39;00m(\u001b[39m\"\u001b[39m\u001b[39mColumns must be same length as key\u001b[39m\u001b[39m\"\u001b[39m)\n\u001b[1;32m   4048\u001b[0m     \u001b[39mfor\u001b[39;00m i, col \u001b[39min\u001b[39;00m \u001b[39menumerate\u001b[39m(key):\n\u001b[0;32m-> 4049\u001b[0m         \u001b[39mself\u001b[39;49m[col] \u001b[39m=\u001b[39m igetitem(value, i)\n\u001b[1;32m   4051\u001b[0m \u001b[39melse\u001b[39;00m:\n\u001b[1;32m   4053\u001b[0m     ilocs \u001b[39m=\u001b[39m \u001b[39mself\u001b[39m\u001b[39m.\u001b[39mcolumns\u001b[39m.\u001b[39mget_indexer_non_unique(key)[\u001b[39m0\u001b[39m]\n",
      "File \u001b[0;32m/usr/lib/python3.11/site-packages/pandas/core/frame.py:3980\u001b[0m, in \u001b[0;36mDataFrame.__setitem__\u001b[0;34m(self, key, value)\u001b[0m\n\u001b[1;32m   3977\u001b[0m     \u001b[39mself\u001b[39m\u001b[39m.\u001b[39m_setitem_array([key], value)\n\u001b[1;32m   3978\u001b[0m \u001b[39melse\u001b[39;00m:\n\u001b[1;32m   3979\u001b[0m     \u001b[39m# set column\u001b[39;00m\n\u001b[0;32m-> 3980\u001b[0m     \u001b[39mself\u001b[39;49m\u001b[39m.\u001b[39;49m_set_item(key, value)\n",
      "File \u001b[0;32m/usr/lib/python3.11/site-packages/pandas/core/frame.py:4187\u001b[0m, in \u001b[0;36mDataFrame._set_item\u001b[0;34m(self, key, value)\u001b[0m\n\u001b[1;32m   4184\u001b[0m         \u001b[39mif\u001b[39;00m \u001b[39misinstance\u001b[39m(existing_piece, DataFrame):\n\u001b[1;32m   4185\u001b[0m             value \u001b[39m=\u001b[39m np\u001b[39m.\u001b[39mtile(value, (\u001b[39mlen\u001b[39m(existing_piece\u001b[39m.\u001b[39mcolumns), \u001b[39m1\u001b[39m))\u001b[39m.\u001b[39mT\n\u001b[0;32m-> 4187\u001b[0m \u001b[39mself\u001b[39;49m\u001b[39m.\u001b[39;49m_set_item_mgr(key, value)\n",
      "File \u001b[0;32m/usr/lib/python3.11/site-packages/pandas/core/frame.py:4146\u001b[0m, in \u001b[0;36mDataFrame._set_item_mgr\u001b[0;34m(self, key, value)\u001b[0m\n\u001b[1;32m   4144\u001b[0m     \u001b[39mself\u001b[39m\u001b[39m.\u001b[39m_mgr\u001b[39m.\u001b[39minsert(\u001b[39mlen\u001b[39m(\u001b[39mself\u001b[39m\u001b[39m.\u001b[39m_info_axis), key, value)\n\u001b[1;32m   4145\u001b[0m \u001b[39melse\u001b[39;00m:\n\u001b[0;32m-> 4146\u001b[0m     \u001b[39mself\u001b[39;49m\u001b[39m.\u001b[39;49m_iset_item_mgr(loc, value)\n\u001b[1;32m   4148\u001b[0m \u001b[39m# check if we are modifying a copy\u001b[39;00m\n\u001b[1;32m   4149\u001b[0m \u001b[39m# try to set first as we want an invalid\u001b[39;00m\n\u001b[1;32m   4150\u001b[0m \u001b[39m# value exception to occur first\u001b[39;00m\n\u001b[1;32m   4151\u001b[0m \u001b[39mif\u001b[39;00m \u001b[39mlen\u001b[39m(\u001b[39mself\u001b[39m):\n",
      "File \u001b[0;32m/usr/lib/python3.11/site-packages/pandas/core/frame.py:4136\u001b[0m, in \u001b[0;36mDataFrame._iset_item_mgr\u001b[0;34m(self, loc, value, inplace)\u001b[0m\n\u001b[1;32m   4132\u001b[0m \u001b[39mdef\u001b[39;00m \u001b[39m_iset_item_mgr\u001b[39m(\n\u001b[1;32m   4133\u001b[0m     \u001b[39mself\u001b[39m, loc: \u001b[39mint\u001b[39m \u001b[39m|\u001b[39m \u001b[39mslice\u001b[39m \u001b[39m|\u001b[39m np\u001b[39m.\u001b[39mndarray, value, inplace: \u001b[39mbool\u001b[39m \u001b[39m=\u001b[39m \u001b[39mFalse\u001b[39;00m\n\u001b[1;32m   4134\u001b[0m ) \u001b[39m-\u001b[39m\u001b[39m>\u001b[39m \u001b[39mNone\u001b[39;00m:\n\u001b[1;32m   4135\u001b[0m     \u001b[39m# when called from _set_item_mgr loc can be anything returned from get_loc\u001b[39;00m\n\u001b[0;32m-> 4136\u001b[0m     \u001b[39mself\u001b[39;49m\u001b[39m.\u001b[39;49m_mgr\u001b[39m.\u001b[39;49miset(loc, value, inplace\u001b[39m=\u001b[39;49minplace)\n\u001b[1;32m   4137\u001b[0m     \u001b[39mself\u001b[39m\u001b[39m.\u001b[39m_clear_item_cache()\n",
      "File \u001b[0;32m/usr/lib/python3.11/site-packages/pandas/core/internals/managers.py:1268\u001b[0m, in \u001b[0;36mBlockManager.iset\u001b[0;34m(self, loc, value, inplace)\u001b[0m\n\u001b[1;32m   1266\u001b[0m     removed_blknos\u001b[39m.\u001b[39mappend(blkno_l)\n\u001b[1;32m   1267\u001b[0m \u001b[39melse\u001b[39;00m:\n\u001b[0;32m-> 1268\u001b[0m     nb \u001b[39m=\u001b[39m blk\u001b[39m.\u001b[39;49mdelete(blk_locs)\n\u001b[1;32m   1269\u001b[0m     blocks_tup \u001b[39m=\u001b[39m (\n\u001b[1;32m   1270\u001b[0m         \u001b[39mself\u001b[39m\u001b[39m.\u001b[39mblocks[:blkno_l] \u001b[39m+\u001b[39m (nb,) \u001b[39m+\u001b[39m \u001b[39mself\u001b[39m\u001b[39m.\u001b[39mblocks[blkno_l \u001b[39m+\u001b[39m \u001b[39m1\u001b[39m :]\n\u001b[1;32m   1271\u001b[0m     )\n\u001b[1;32m   1272\u001b[0m     \u001b[39mself\u001b[39m\u001b[39m.\u001b[39mblocks \u001b[39m=\u001b[39m blocks_tup\n",
      "File \u001b[0;32m/usr/lib/python3.11/site-packages/pandas/core/internals/blocks.py:1921\u001b[0m, in \u001b[0;36mNumpyBlock.delete\u001b[0;34m(self, loc)\u001b[0m\n\u001b[1;32m   1920\u001b[0m \u001b[39mdef\u001b[39;00m \u001b[39mdelete\u001b[39m(\u001b[39mself\u001b[39m, loc) \u001b[39m-\u001b[39m\u001b[39m>\u001b[39m Block:\n\u001b[0;32m-> 1921\u001b[0m     values \u001b[39m=\u001b[39m np\u001b[39m.\u001b[39;49mdelete(\u001b[39mself\u001b[39;49m\u001b[39m.\u001b[39;49mvalues, loc, \u001b[39m0\u001b[39;49m)\n\u001b[1;32m   1922\u001b[0m     mgr_locs \u001b[39m=\u001b[39m \u001b[39mself\u001b[39m\u001b[39m.\u001b[39m_mgr_locs\u001b[39m.\u001b[39mdelete(loc)\n\u001b[1;32m   1923\u001b[0m     \u001b[39mreturn\u001b[39;00m \u001b[39mtype\u001b[39m(\u001b[39mself\u001b[39m)(values, placement\u001b[39m=\u001b[39mmgr_locs, ndim\u001b[39m=\u001b[39m\u001b[39mself\u001b[39m\u001b[39m.\u001b[39mndim)\n",
      "\u001b[0;31mKeyboardInterrupt\u001b[0m: "
     ]
    }
   ],
   "source": [
    "import pandas as pd\n",
    "import numpy as np\n",
    "import tensorflow as tf\n",
    "from sklearn.model_selection import train_test_split\n",
    "from sklearn.preprocessing import MinMaxScaler\n",
    "from tensorflow.keras.models import Sequential\n",
    "from tensorflow.keras.layers import Dense, Dropout, BatchNormalization\n",
    "from tensorflow.keras.optimizers import Adam\n",
    "from sklearn.metrics import mean_squared_error\n",
    "\n",
    "# Load the data (adjust file paths as necessary)\n",
    "de_train = pd.read_parquet('data/de_train.parquet')\n",
    "\n",
    "# One-hot encode categorical variables\n",
    "de_train_encoded = pd.get_dummies(de_train, columns=['cell_type', 'sm_name'])\n",
    "\n",
    "# Scale the gene expression data\n",
    "scaler = MinMaxScaler()\n",
    "gene_expression_columns = de_train_encoded.columns[5:].tolist()\n",
    "de_train_encoded[gene_expression_columns] = scaler.fit_transform(de_train_encoded[gene_expression_columns])\n",
    "\n",
    "# For demonstration, let's predict the differential expression for one gene\n",
    "target_gene = gene_expression_columns[0]\n",
    "X = de_train_encoded.drop(columns=['sm_lincs_id', 'SMILES', 'control'] + gene_expression_columns)\n",
    "y = de_train_encoded[target_gene].values\n",
    "X_train, X_test, y_train, y_test = train_test_split(X, y, test_size=0.2, random_state=42)\n",
    "\n",
    "# Neural network architecture\n",
    "model = Sequential()\n",
    "model.add(Dense(512, input_dim=X_train.shape[1], activation='relu'))\n",
    "model.add(BatchNormalization())\n",
    "model.add(Dropout(0.5))\n",
    "model.add(Dense(256, activation='relu'))\n",
    "model.add(BatchNormalization())\n",
    "model.add(Dropout(0.5))\n",
    "model.add(Dense(128, activation='relu'))\n",
    "model.add(BatchNormalization())\n",
    "model.add(Dropout(0.5))\n",
    "model.add(Dense(1, activation='linear'))  # Output layer for regression\n",
    "\n",
    "# Compile the model\n",
    "model.compile(optimizer=Adam(learning_rate=0.001), loss='mean_squared_error')\n",
    "\n",
    "# Model summary\n",
    "model.summary()\n",
    "\n",
    "# Training the model (commented out due to potentially long runtime)\n",
    "# history = model.fit(X_train, y_train, validation_data=(X_test, y_test), epochs=100, batch_size=32)\n",
    "\n",
    "# Evaluate the model (commented out as the model is not actually trained here)\n",
    "# predictions = model.predict(X_test)\n",
    "# rmse = np.sqrt(mean_squared_error(y_test, predictions))\n",
    "# print(f'Root Mean Squared Error: {rmse}')\n",
    "\n",
    "# Prepare the submission file (this part would need to be modified to fit the competition format)\n",
    "# test_predictions = model.predict(...)  # Predict using the model for the evaluation set\n",
    "# sample_submission.loc[:, gene_expression_columns] = test_predictions\n",
    "# sample_submission.to_csv('data/my_submission.csv', index=False)\n"
   ]
  },
  {
   "cell_type": "code",
   "execution_count": null,
   "metadata": {},
   "outputs": [],
   "source": []
  }
 ],
 "metadata": {
  "kernelspec": {
   "display_name": "Python 3",
   "language": "python",
   "name": "python3"
  },
  "language_info": {
   "codemirror_mode": {
    "name": "ipython",
    "version": 3
   },
   "file_extension": ".py",
   "mimetype": "text/x-python",
   "name": "python",
   "nbconvert_exporter": "python",
   "pygments_lexer": "ipython3",
   "version": "3.11.5"
  }
 },
 "nbformat": 4,
 "nbformat_minor": 2
}
